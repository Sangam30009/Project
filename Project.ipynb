{
 "cells": [
  {
   "cell_type": "code",
   "execution_count": 130,
   "metadata": {},
   "outputs": [
    {
     "name": "stdout",
     "output_type": "stream",
     "text": [
      "1\n"
     ]
    }
   ],
   "source": [
    "import PyPDF2 \n",
    "    \n",
    "pdfFileObj = open(\"c://Python.pdf\", 'rb')  \n",
    "pdfReader = PyPDF2.PdfFileReader(pdfFileObj) \n",
    "print(pdfReader.numPages) \n",
    "pageObj = pdfReader.getPage(0) \n",
    "#print(pageObj)\n",
    "#print(pageObj.extractText())  \n",
    "\n",
    "#pdfFileObj.close() "
   ]
  },
  {
   "cell_type": "code",
   "execution_count": 131,
   "metadata": {},
   "outputs": [],
   "source": [
    "import re"
   ]
  },
  {
   "cell_type": "code",
   "execution_count": 132,
   "metadata": {},
   "outputs": [
    {
     "name": "stdout",
     "output_type": "stream",
     "text": [
      "['p\\nython', '\\njava', 'c', 'c++', 'oracle\\n \\np\\nycharm', '\\nanaconda', '.net', 'php\\n \\n']\n",
      "['python', 'java', 'c', 'c++', 'oracle pycharm', 'anaconda', '.net', 'php ']\n"
     ]
    }
   ],
   "source": [
    "num_pages = pdfReader.numPages\n",
    "count=0\n",
    "text=\"\"\n",
    "while count < num_pages:\n",
    "    pageObj = pdfReader.getPage(count)\n",
    "    count +=1\n",
    "    text += pageObj.extractText()\n",
    "    #print(count)\n",
    "    #print(text)\n",
    "text = text.lower()\n",
    "#print(text)\n",
    "text = re.sub(r'\\d+','',text)\n",
    "#print(text)\n",
    "text=text.split(',')\n",
    "print(text)\n",
    "text1=[]\n",
    "for i in text:\n",
    "    text1.append(i.replace(\"\\n\", \"\"))\n",
    "print(text1)\n"
   ]
  },
  {
   "cell_type": "code",
   "execution_count": 133,
   "metadata": {},
   "outputs": [],
   "source": [
    "jd={'devloper':['python','java','c','oracle','anaconda','php'],'c_devloper':['c','oracle','anaconda','c++','excel','turbo c++']}\n",
    "devlpr=0\n",
    "c=0\n",
    "scores=[]"
   ]
  },
  {
   "cell_type": "code",
   "execution_count": 134,
   "metadata": {},
   "outputs": [
    {
     "name": "stdout",
     "output_type": "stream",
     "text": [
      "python\n",
      "java\n",
      "c\n",
      "anaconda\n",
      "4\n",
      "6\n",
      "//////////////////////////////////////\n",
      "c\n",
      "anaconda\n",
      "c++\n",
      "3\n",
      "6\n"
     ]
    }
   ],
   "source": [
    "for role in jd.keys():        \n",
    "    if role == 'devloper':\n",
    "        length=len(jd['devloper'])\n",
    "        for word in jd[role]:\n",
    "           # print(word)\n",
    "            if word in text1:\n",
    "                print(word)\n",
    "                devlpr +=1\n",
    "        print(devlpr)\n",
    "        print(length)\n",
    "        scores.append(devlpr)\n",
    "        print(\"//////////////////////////////////////\")\n",
    "    if role == 'c_devloper':\n",
    "        length=len(jd['c_devloper'])\n",
    "        for word in jd[role]:\n",
    "           # print(word)\n",
    "            if word in text1:\n",
    "                print(word)\n",
    "                c +=1\n",
    "        print(c)\n",
    "        print(length)\n",
    "        scores.append(c)\n",
    "\n",
    "\n"
   ]
  },
  {
   "cell_type": "code",
   "execution_count": 135,
   "metadata": {},
   "outputs": [
    {
     "name": "stdout",
     "output_type": "stream",
     "text": [
      "[4, 3]\n",
      "4 6\n",
      "VERY GOOD CV 66.67% matched\n",
      "3 6\n",
      "VERY GOOD CV 50.00% matched\n"
     ]
    }
   ],
   "source": [
    "print(scores)\n",
    "for i in scores:\n",
    "    print(i,length)\n",
    "    percent=(i/length)*100\n",
    "    if (percent>=50):\n",
    "        print(\"VERY GOOD CV \"+str(\"{:.2f}\".format(percent))+\"% matched\")\n",
    "    else:\n",
    "        print(\"NOT A GOOD CV\")"
   ]
  },
  {
   "cell_type": "code",
   "execution_count": 136,
   "metadata": {},
   "outputs": [],
   "source": [
    "import pandas as pd\n",
    "\n",
    "import matplotlib.pyplot as plt"
   ]
  },
  {
   "cell_type": "code",
   "execution_count": 137,
   "metadata": {},
   "outputs": [
    {
     "data": {
      "text/html": [
       "<div>\n",
       "<style scoped>\n",
       "    .dataframe tbody tr th:only-of-type {\n",
       "        vertical-align: middle;\n",
       "    }\n",
       "\n",
       "    .dataframe tbody tr th {\n",
       "        vertical-align: top;\n",
       "    }\n",
       "\n",
       "    .dataframe thead th {\n",
       "        text-align: right;\n",
       "    }\n",
       "</style>\n",
       "<table border=\"1\" class=\"dataframe\">\n",
       "  <thead>\n",
       "    <tr style=\"text-align: right;\">\n",
       "      <th></th>\n",
       "      <th>score</th>\n",
       "    </tr>\n",
       "  </thead>\n",
       "  <tbody>\n",
       "    <tr>\n",
       "      <th>devloper</th>\n",
       "      <td>4</td>\n",
       "    </tr>\n",
       "    <tr>\n",
       "      <th>c_devloper</th>\n",
       "      <td>3</td>\n",
       "    </tr>\n",
       "  </tbody>\n",
       "</table>\n",
       "</div>"
      ],
      "text/plain": [
       "            score\n",
       "devloper        4\n",
       "c_devloper      3"
      ]
     },
     "execution_count": 137,
     "metadata": {},
     "output_type": "execute_result"
    }
   ],
   "source": [
    "summary = pd.DataFrame(scores,index=jd.keys(),columns=['score'])\n",
    "summary"
   ]
  },
  {
   "cell_type": "code",
   "execution_count": 143,
   "metadata": {},
   "outputs": [
    {
     "data": {
      "image/png": "[encoded data removed]",
      "text/plain": [
       "<Figure size 360x360 with 1 Axes>"
      ]
     },
     "metadata": {},
     "output_type": "display_data"
    }
   ],
   "source": [
    "pie = plt.figure(figsize=(5,5))\n",
    "plt.pie(summary['score'], labels=summary.index,autopct='%0.2f%%')\n",
    "plt.title('Percentage matched for the role')\n",
    "plt.show()"
   ]
  },
  {
   "cell_type": "code",
   "execution_count": null,
   "metadata": {},
   "outputs": [],
   "source": []
  },
  {
   "cell_type": "code",
   "execution_count": null,
   "metadata": {},
   "outputs": [],
   "source": []
  }
 ],
 "metadata": {
  "kernelspec": {
   "display_name": "Python 3",
   "language": "python",
   "name": "python3"
  },
  "language_info": {
   "codemirror_mode": {
    "name": "ipython",
    "version": 3
   },
   "file_extension": ".py",
   "mimetype": "text/x-python",
   "name": "python",
   "nbconvert_exporter": "python",
   "pygments_lexer": "ipython3",
   "version": "3.8.3"
  }
 },
 "nbformat": 4,
 "nbformat_minor": 4
}
